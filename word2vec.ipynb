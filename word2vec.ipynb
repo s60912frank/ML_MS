{
 "cells": [
  {
   "cell_type": "code",
   "execution_count": null,
   "metadata": {},
   "outputs": [],
   "source": [
    "from gensim.utils import simple_preprocess\n",
    "import os\n",
    "import json\n",
    "import numpy as np\n",
    "from gensim.models import Word2Vec\n",
    "\n",
    "tokenize = lambda x: simple_preprocess(x)\n",
    "\n",
    "def create_embeddings(data_dir, embeddings_path, vocab_path, **params):\n",
    "    class SentenceGenerator(object):\n",
    "        def __init__(self, dirname):\n",
    "            self.dirname = dirname\n",
    "\n",
    "        def __iter__(self):\n",
    "            for fname in os.listdir(self.dirname):\n",
    "                for line in open(os.path.join(self.dirname, fname)):\n",
    "                    yield tokenize(line)\n",
    "\n",
    "    sentences = SentenceGenerator(data_dir)\n",
    "\n",
    "    model = Word2Vec(sentences, **params)\n",
    "    weights = model.syn0\n",
    "    np.save(open(embeddings_path, 'wb'), weights)\n",
    "\n",
    "    vocab = dict([(k, v.index) for k, v in model.vocab.items()])\n",
    "    with open(vocab_path, 'w') as f:\n",
    "        f.write(json.dumps(vocab))"
   ]
  },
  {
   "cell_type": "code",
   "execution_count": null,
   "metadata": {},
   "outputs": [],
   "source": [
    "from gensim.models import word2vec\n",
    "import logging\n",
    "\n",
    "def main():\n",
    "\n",
    "    logging.basicConfig(format='%(asctime)s : %(levelname)s : %(message)s', level=logging.INFO)\n",
    "    sentences = word2vec.Text8Corpus(\"./w2v_test/wiki_texts.txt\")\n",
    "    model = word2vec.Word2Vec(sentences, size=500)\n",
    "\n",
    "    # Save our model.\n",
    "    model.save(\"wiki.model.bin\")\n",
    "\n",
    "    # To load a model.\n",
    "    # model = word2vec.Word2Vec.load(\"your_model.bin\")\n",
    "\n",
    "main()"
   ]
  },
  {
   "cell_type": "code",
   "execution_count": 5,
   "metadata": {},
   "outputs": [
    {
     "ename": "SyntaxError",
     "evalue": "Missing parentheses in call to 'print' (word2veckeras.py, line 282)",
     "output_type": "error",
     "traceback": [
      "Traceback \u001b[1;36m(most recent call last)\u001b[0m:\n",
      "  File \u001b[0;32m\"C:\\Users\\Gmin\\Anaconda3\\lib\\site-packages\\IPython\\core\\interactiveshell.py\"\u001b[0m, line \u001b[0;32m2862\u001b[0m, in \u001b[0;35mrun_code\u001b[0m\n    exec(code_obj, self.user_global_ns, self.user_ns)\n",
      "\u001b[1;36m  File \u001b[1;32m\"<ipython-input-5-f616fb6c55f8>\"\u001b[1;36m, line \u001b[1;32m1\u001b[1;36m, in \u001b[1;35m<module>\u001b[1;36m\u001b[0m\n\u001b[1;33m    from word2veckeras.word2veckeras import Word2VecKeras\u001b[0m\n",
      "\u001b[1;36m  File \u001b[1;32m\"C:\\Users\\Gmin\\Anaconda3\\lib\\site-packages\\word2veckeras\\word2veckeras.py\"\u001b[1;36m, line \u001b[1;32m282\u001b[0m\n\u001b[1;33m    print 'build_vocab'\u001b[0m\n\u001b[1;37m                      ^\u001b[0m\n\u001b[1;31mSyntaxError\u001b[0m\u001b[1;31m:\u001b[0m Missing parentheses in call to 'print'\n"
     ]
    }
   ],
   "source": [
    "from word2veckeras.word2veckeras import Word2VecKeras\n",
    "import gensim\n",
    "vsk = Word2VecKeras(gensim.models.word2vec.LineSentence('./w2v_test/wiki_texts.txt'),iter=100)\n",
    "print( vsk.most_similar('the', topn=5))"
   ]
  },
  {
   "cell_type": "code",
   "execution_count": null,
   "metadata": {
    "collapsed": true
   },
   "outputs": [],
   "source": []
  }
 ],
 "metadata": {
  "kernelspec": {
   "display_name": "Python 3",
   "language": "python",
   "name": "python3"
  },
  "language_info": {
   "codemirror_mode": {
    "name": "ipython",
    "version": 3
   },
   "file_extension": ".py",
   "mimetype": "text/x-python",
   "name": "python",
   "nbconvert_exporter": "python",
   "pygments_lexer": "ipython3",
   "version": "3.6.2"
  }
 },
 "nbformat": 4,
 "nbformat_minor": 2
}
